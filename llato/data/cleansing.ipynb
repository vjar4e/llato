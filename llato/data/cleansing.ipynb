{
 "cells": [
  {
   "cell_type": "code",
   "execution_count": 23,
   "metadata": {},
   "outputs": [],
   "source": [
    "!poetry run python -m nbconvert --to script cleansing.ipynb"
   ]
  },
  {
   "cell_type": "code",
   "execution_count": 1,
   "metadata": {},
   "outputs": [],
   "source": [
    "import pandas as pd\n",
    "\n",
    "grammes_raw = pd.read_csv('grammes_raw.csv', sep=',')\n",
    "\n",
    "code_to_letter = {\n",
    "    \"%C4%85\": \"ą\",\n",
    "    \"%C4%97\": \"ę\",\n",
    "    \"%C4%AF\": \"į\",\n",
    "    \"%C5%B3\": \"ų\",\n",
    "    \"%C5%AB\": \"ū\",\n",
    "    \"%C4%8D\": \"č\",\n",
    "    \"%C5%A1\": \"š\",\n",
    "    \"%C5%BE\": \"ž\"\n",
    "}\n",
    "\n",
    "# Remove duplicates\n",
    "grammes_raw = grammes_raw.drop_duplicates()\n",
    "\n",
    "# Replace codes above with letters\n",
    "grammes_raw['word'] = grammes_raw['word'].replace(code_to_letter, regex=True)"
   ]
  },
  {
   "cell_type": "code",
   "execution_count": 2,
   "metadata": {},
   "outputs": [],
   "source": [
    "# Get gramme and split it. Separators are dash, arrow and comma\n",
    "# Skip if gramme is nan\n",
    "\n",
    "grammes_raw['gramme'] = grammes_raw['gramme'].str.replace('└*', '', regex=True).str.strip()\n",
    "grammes_raw['gramme_split'] = grammes_raw['gramme'].str.split('–|→ ,|,', regex=True)"
   ]
  },
  {
   "cell_type": "code",
   "execution_count": 3,
   "metadata": {},
   "outputs": [
    {
     "data": {
      "text/html": [
       "<div>\n",
       "<style scoped>\n",
       "    .dataframe tbody tr th:only-of-type {\n",
       "        vertical-align: middle;\n",
       "    }\n",
       "\n",
       "    .dataframe tbody tr th {\n",
       "        vertical-align: top;\n",
       "    }\n",
       "\n",
       "    .dataframe thead th {\n",
       "        text-align: right;\n",
       "    }\n",
       "</style>\n",
       "<table border=\"1\" class=\"dataframe\">\n",
       "  <thead>\n",
       "    <tr style=\"text-align: right;\">\n",
       "      <th></th>\n",
       "      <th>word</th>\n",
       "      <th>gramme</th>\n",
       "      <th>gramme_split</th>\n",
       "    </tr>\n",
       "  </thead>\n",
       "  <tbody>\n",
       "    <tr>\n",
       "      <th>0</th>\n",
       "      <td>abatas</td>\n",
       "      <td>abatas → ,abatas – daiktavardis, vyr. g.,V.,vns.</td>\n",
       "      <td>[abatas , abatas ,  daiktavardis,  vyr. g., V., vns.]</td>\n",
       "    </tr>\n",
       "    <tr>\n",
       "      <th>1</th>\n",
       "      <td>abatus</td>\n",
       "      <td>abatas → ,abatus – daiktavardis, vyr. g.,G.,dgs.</td>\n",
       "      <td>[abatas , abatus ,  daiktavardis,  vyr. g., G., dgs.]</td>\n",
       "    </tr>\n",
       "    <tr>\n",
       "      <th>2</th>\n",
       "      <td>abatą</td>\n",
       "      <td>abatas → ,abatą – daiktavardis, vyr. g.,G.,vns.</td>\n",
       "      <td>[abatas , abatą ,  daiktavardis,  vyr. g., G., vns.]</td>\n",
       "    </tr>\n",
       "    <tr>\n",
       "      <th>3</th>\n",
       "      <td>abato</td>\n",
       "      <td>abatas → ,abato – daiktavardis, vyr. g.,K.,vns.</td>\n",
       "      <td>[abatas , abato ,  daiktavardis,  vyr. g., K., vns.]</td>\n",
       "    </tr>\n",
       "    <tr>\n",
       "      <th>4</th>\n",
       "      <td>abatui</td>\n",
       "      <td>abatas → ,abatui – daiktavardis, vyr. g.,N.,vns.</td>\n",
       "      <td>[abatas , abatui ,  daiktavardis,  vyr. g., N., vns.]</td>\n",
       "    </tr>\n",
       "  </tbody>\n",
       "</table>\n",
       "</div>"
      ],
      "text/plain": [
       "     word                                            gramme  \\\n",
       "0  abatas  abatas → ,abatas – daiktavardis, vyr. g.,V.,vns.   \n",
       "1  abatus  abatas → ,abatus – daiktavardis, vyr. g.,G.,dgs.   \n",
       "2   abatą   abatas → ,abatą – daiktavardis, vyr. g.,G.,vns.   \n",
       "3   abato   abatas → ,abato – daiktavardis, vyr. g.,K.,vns.   \n",
       "4  abatui  abatas → ,abatui – daiktavardis, vyr. g.,N.,vns.   \n",
       "\n",
       "                                            gramme_split  \n",
       "0  [abatas , abatas ,  daiktavardis,  vyr. g., V., vns.]  \n",
       "1  [abatas , abatus ,  daiktavardis,  vyr. g., G., dgs.]  \n",
       "2   [abatas , abatą ,  daiktavardis,  vyr. g., G., vns.]  \n",
       "3   [abatas , abato ,  daiktavardis,  vyr. g., K., vns.]  \n",
       "4  [abatas , abatui ,  daiktavardis,  vyr. g., N., vns.]  "
      ]
     },
     "execution_count": 3,
     "metadata": {},
     "output_type": "execute_result"
    }
   ],
   "source": [
    "pd.set_option('display.max_colwidth', None)\n",
    "grammes_raw.head()"
   ]
  },
  {
   "cell_type": "code",
   "execution_count": 4,
   "metadata": {},
   "outputs": [],
   "source": [
    "gramme_types = grammes_raw['gramme_split'].apply(lambda x: x[2].strip()).unique()\n",
    "\n",
    "\n",
    "grammes_dfs = {}\n",
    "\n",
    "# put each gramme type into separate dataframe and save it to dictionary grammes_dfs \n",
    "for gramme_type in gramme_types:\n",
    "    # append grammes_dfs with removed gramme column and renamed gramme_split to gramme columns\n",
    "    grammes_dfs[gramme_type] = grammes_raw[grammes_raw['gramme_split'].apply(lambda x: x[2].strip()) == gramme_type].drop(\n",
    "        columns=['gramme']).rename(columns={'gramme_split': 'gramme'})\n",
    "    # grammes_dfs[gramme_type] = grammes_raw[grammes_raw['gramme_split'].apply(lambda x: x[2]) == gramme_type]\n",
    "\n",
    "# Rename ivard-daikt to įvardžiai\n",
    "grammes_dfs['įvardžiai'] = grammes_dfs.pop('įvard.-daikt.')"
   ]
  },
  {
   "cell_type": "code",
   "execution_count": 5,
   "metadata": {},
   "outputs": [
    {
     "data": {
      "application/vnd.plotly.v1+json": {
       "config": {
        "plotlyServerURL": "https://plot.ly"
       },
       "data": [
        {
         "alignmentgroup": "True",
         "hovertemplate": "=%{y}<extra></extra>",
         "legendgroup": "",
         "marker": {
          "color": "#636efa",
          "pattern": {
           "shape": ""
          }
         },
         "name": "",
         "offsetgroup": "",
         "orientation": "h",
         "showlegend": false,
         "textposition": "auto",
         "texttemplate": "%{x}",
         "type": "bar",
         "x": [
          12,
          17,
          19,
          34,
          44,
          107,
          150,
          350,
          379,
          116328,
          161854,
          178980,
          197029
         ],
         "xaxis": "x",
         "y": [
          "Pusdalyvis",
          "Prielinksnis",
          "Jungtukas",
          "Dalelytė",
          "Jaustukas",
          "Prieveiksmis",
          "Padalyvis",
          "Skaitvardis",
          "Įvardžiai",
          "Daiktavardis",
          "Dalyvis",
          "Būdvardis",
          "Veiksmažodis"
         ],
         "yaxis": "y"
        }
       ],
       "layout": {
        "barmode": "relative",
        "legend": {
         "tracegroupgap": 0
        },
        "margin": {
         "t": 60
        },
        "template": {
         "data": {
          "bar": [
           {
            "error_x": {
             "color": "#2a3f5f"
            },
            "error_y": {
             "color": "#2a3f5f"
            },
            "marker": {
             "line": {
              "color": "#E5ECF6",
              "width": 0.5
             },
             "pattern": {
              "fillmode": "overlay",
              "size": 10,
              "solidity": 0.2
             }
            },
            "type": "bar"
           }
          ],
          "barpolar": [
           {
            "marker": {
             "line": {
              "color": "#E5ECF6",
              "width": 0.5
             },
             "pattern": {
              "fillmode": "overlay",
              "size": 10,
              "solidity": 0.2
             }
            },
            "type": "barpolar"
           }
          ],
          "carpet": [
           {
            "aaxis": {
             "endlinecolor": "#2a3f5f",
             "gridcolor": "white",
             "linecolor": "white",
             "minorgridcolor": "white",
             "startlinecolor": "#2a3f5f"
            },
            "baxis": {
             "endlinecolor": "#2a3f5f",
             "gridcolor": "white",
             "linecolor": "white",
             "minorgridcolor": "white",
             "startlinecolor": "#2a3f5f"
            },
            "type": "carpet"
           }
          ],
          "choropleth": [
           {
            "colorbar": {
             "outlinewidth": 0,
             "ticks": ""
            },
            "type": "choropleth"
           }
          ],
          "contour": [
           {
            "colorbar": {
             "outlinewidth": 0,
             "ticks": ""
            },
            "colorscale": [
             [
              0,
              "#0d0887"
             ],
             [
              0.1111111111111111,
              "#46039f"
             ],
             [
              0.2222222222222222,
              "#7201a8"
             ],
             [
              0.3333333333333333,
              "#9c179e"
             ],
             [
              0.4444444444444444,
              "#bd3786"
             ],
             [
              0.5555555555555556,
              "#d8576b"
             ],
             [
              0.6666666666666666,
              "#ed7953"
             ],
             [
              0.7777777777777778,
              "#fb9f3a"
             ],
             [
              0.8888888888888888,
              "#fdca26"
             ],
             [
              1,
              "#f0f921"
             ]
            ],
            "type": "contour"
           }
          ],
          "contourcarpet": [
           {
            "colorbar": {
             "outlinewidth": 0,
             "ticks": ""
            },
            "type": "contourcarpet"
           }
          ],
          "heatmap": [
           {
            "colorbar": {
             "outlinewidth": 0,
             "ticks": ""
            },
            "colorscale": [
             [
              0,
              "#0d0887"
             ],
             [
              0.1111111111111111,
              "#46039f"
             ],
             [
              0.2222222222222222,
              "#7201a8"
             ],
             [
              0.3333333333333333,
              "#9c179e"
             ],
             [
              0.4444444444444444,
              "#bd3786"
             ],
             [
              0.5555555555555556,
              "#d8576b"
             ],
             [
              0.6666666666666666,
              "#ed7953"
             ],
             [
              0.7777777777777778,
              "#fb9f3a"
             ],
             [
              0.8888888888888888,
              "#fdca26"
             ],
             [
              1,
              "#f0f921"
             ]
            ],
            "type": "heatmap"
           }
          ],
          "heatmapgl": [
           {
            "colorbar": {
             "outlinewidth": 0,
             "ticks": ""
            },
            "colorscale": [
             [
              0,
              "#0d0887"
             ],
             [
              0.1111111111111111,
              "#46039f"
             ],
             [
              0.2222222222222222,
              "#7201a8"
             ],
             [
              0.3333333333333333,
              "#9c179e"
             ],
             [
              0.4444444444444444,
              "#bd3786"
             ],
             [
              0.5555555555555556,
              "#d8576b"
             ],
             [
              0.6666666666666666,
              "#ed7953"
             ],
             [
              0.7777777777777778,
              "#fb9f3a"
             ],
             [
              0.8888888888888888,
              "#fdca26"
             ],
             [
              1,
              "#f0f921"
             ]
            ],
            "type": "heatmapgl"
           }
          ],
          "histogram": [
           {
            "marker": {
             "pattern": {
              "fillmode": "overlay",
              "size": 10,
              "solidity": 0.2
             }
            },
            "type": "histogram"
           }
          ],
          "histogram2d": [
           {
            "colorbar": {
             "outlinewidth": 0,
             "ticks": ""
            },
            "colorscale": [
             [
              0,
              "#0d0887"
             ],
             [
              0.1111111111111111,
              "#46039f"
             ],
             [
              0.2222222222222222,
              "#7201a8"
             ],
             [
              0.3333333333333333,
              "#9c179e"
             ],
             [
              0.4444444444444444,
              "#bd3786"
             ],
             [
              0.5555555555555556,
              "#d8576b"
             ],
             [
              0.6666666666666666,
              "#ed7953"
             ],
             [
              0.7777777777777778,
              "#fb9f3a"
             ],
             [
              0.8888888888888888,
              "#fdca26"
             ],
             [
              1,
              "#f0f921"
             ]
            ],
            "type": "histogram2d"
           }
          ],
          "histogram2dcontour": [
           {
            "colorbar": {
             "outlinewidth": 0,
             "ticks": ""
            },
            "colorscale": [
             [
              0,
              "#0d0887"
             ],
             [
              0.1111111111111111,
              "#46039f"
             ],
             [
              0.2222222222222222,
              "#7201a8"
             ],
             [
              0.3333333333333333,
              "#9c179e"
             ],
             [
              0.4444444444444444,
              "#bd3786"
             ],
             [
              0.5555555555555556,
              "#d8576b"
             ],
             [
              0.6666666666666666,
              "#ed7953"
             ],
             [
              0.7777777777777778,
              "#fb9f3a"
             ],
             [
              0.8888888888888888,
              "#fdca26"
             ],
             [
              1,
              "#f0f921"
             ]
            ],
            "type": "histogram2dcontour"
           }
          ],
          "mesh3d": [
           {
            "colorbar": {
             "outlinewidth": 0,
             "ticks": ""
            },
            "type": "mesh3d"
           }
          ],
          "parcoords": [
           {
            "line": {
             "colorbar": {
              "outlinewidth": 0,
              "ticks": ""
             }
            },
            "type": "parcoords"
           }
          ],
          "pie": [
           {
            "automargin": true,
            "type": "pie"
           }
          ],
          "scatter": [
           {
            "fillpattern": {
             "fillmode": "overlay",
             "size": 10,
             "solidity": 0.2
            },
            "type": "scatter"
           }
          ],
          "scatter3d": [
           {
            "line": {
             "colorbar": {
              "outlinewidth": 0,
              "ticks": ""
             }
            },
            "marker": {
             "colorbar": {
              "outlinewidth": 0,
              "ticks": ""
             }
            },
            "type": "scatter3d"
           }
          ],
          "scattercarpet": [
           {
            "marker": {
             "colorbar": {
              "outlinewidth": 0,
              "ticks": ""
             }
            },
            "type": "scattercarpet"
           }
          ],
          "scattergeo": [
           {
            "marker": {
             "colorbar": {
              "outlinewidth": 0,
              "ticks": ""
             }
            },
            "type": "scattergeo"
           }
          ],
          "scattergl": [
           {
            "marker": {
             "colorbar": {
              "outlinewidth": 0,
              "ticks": ""
             }
            },
            "type": "scattergl"
           }
          ],
          "scattermapbox": [
           {
            "marker": {
             "colorbar": {
              "outlinewidth": 0,
              "ticks": ""
             }
            },
            "type": "scattermapbox"
           }
          ],
          "scatterpolar": [
           {
            "marker": {
             "colorbar": {
              "outlinewidth": 0,
              "ticks": ""
             }
            },
            "type": "scatterpolar"
           }
          ],
          "scatterpolargl": [
           {
            "marker": {
             "colorbar": {
              "outlinewidth": 0,
              "ticks": ""
             }
            },
            "type": "scatterpolargl"
           }
          ],
          "scatterternary": [
           {
            "marker": {
             "colorbar": {
              "outlinewidth": 0,
              "ticks": ""
             }
            },
            "type": "scatterternary"
           }
          ],
          "surface": [
           {
            "colorbar": {
             "outlinewidth": 0,
             "ticks": ""
            },
            "colorscale": [
             [
              0,
              "#0d0887"
             ],
             [
              0.1111111111111111,
              "#46039f"
             ],
             [
              0.2222222222222222,
              "#7201a8"
             ],
             [
              0.3333333333333333,
              "#9c179e"
             ],
             [
              0.4444444444444444,
              "#bd3786"
             ],
             [
              0.5555555555555556,
              "#d8576b"
             ],
             [
              0.6666666666666666,
              "#ed7953"
             ],
             [
              0.7777777777777778,
              "#fb9f3a"
             ],
             [
              0.8888888888888888,
              "#fdca26"
             ],
             [
              1,
              "#f0f921"
             ]
            ],
            "type": "surface"
           }
          ],
          "table": [
           {
            "cells": {
             "fill": {
              "color": "#EBF0F8"
             },
             "line": {
              "color": "white"
             }
            },
            "header": {
             "fill": {
              "color": "#C8D4E3"
             },
             "line": {
              "color": "white"
             }
            },
            "type": "table"
           }
          ]
         },
         "layout": {
          "annotationdefaults": {
           "arrowcolor": "#2a3f5f",
           "arrowhead": 0,
           "arrowwidth": 1
          },
          "autotypenumbers": "strict",
          "coloraxis": {
           "colorbar": {
            "outlinewidth": 0,
            "ticks": ""
           }
          },
          "colorscale": {
           "diverging": [
            [
             0,
             "#8e0152"
            ],
            [
             0.1,
             "#c51b7d"
            ],
            [
             0.2,
             "#de77ae"
            ],
            [
             0.3,
             "#f1b6da"
            ],
            [
             0.4,
             "#fde0ef"
            ],
            [
             0.5,
             "#f7f7f7"
            ],
            [
             0.6,
             "#e6f5d0"
            ],
            [
             0.7,
             "#b8e186"
            ],
            [
             0.8,
             "#7fbc41"
            ],
            [
             0.9,
             "#4d9221"
            ],
            [
             1,
             "#276419"
            ]
           ],
           "sequential": [
            [
             0,
             "#0d0887"
            ],
            [
             0.1111111111111111,
             "#46039f"
            ],
            [
             0.2222222222222222,
             "#7201a8"
            ],
            [
             0.3333333333333333,
             "#9c179e"
            ],
            [
             0.4444444444444444,
             "#bd3786"
            ],
            [
             0.5555555555555556,
             "#d8576b"
            ],
            [
             0.6666666666666666,
             "#ed7953"
            ],
            [
             0.7777777777777778,
             "#fb9f3a"
            ],
            [
             0.8888888888888888,
             "#fdca26"
            ],
            [
             1,
             "#f0f921"
            ]
           ],
           "sequentialminus": [
            [
             0,
             "#0d0887"
            ],
            [
             0.1111111111111111,
             "#46039f"
            ],
            [
             0.2222222222222222,
             "#7201a8"
            ],
            [
             0.3333333333333333,
             "#9c179e"
            ],
            [
             0.4444444444444444,
             "#bd3786"
            ],
            [
             0.5555555555555556,
             "#d8576b"
            ],
            [
             0.6666666666666666,
             "#ed7953"
            ],
            [
             0.7777777777777778,
             "#fb9f3a"
            ],
            [
             0.8888888888888888,
             "#fdca26"
            ],
            [
             1,
             "#f0f921"
            ]
           ]
          },
          "colorway": [
           "#636efa",
           "#EF553B",
           "#00cc96",
           "#ab63fa",
           "#FFA15A",
           "#19d3f3",
           "#FF6692",
           "#B6E880",
           "#FF97FF",
           "#FECB52"
          ],
          "font": {
           "color": "#2a3f5f"
          },
          "geo": {
           "bgcolor": "white",
           "lakecolor": "white",
           "landcolor": "#E5ECF6",
           "showlakes": true,
           "showland": true,
           "subunitcolor": "white"
          },
          "hoverlabel": {
           "align": "left"
          },
          "hovermode": "closest",
          "mapbox": {
           "style": "light"
          },
          "paper_bgcolor": "white",
          "plot_bgcolor": "#E5ECF6",
          "polar": {
           "angularaxis": {
            "gridcolor": "white",
            "linecolor": "white",
            "ticks": ""
           },
           "bgcolor": "#E5ECF6",
           "radialaxis": {
            "gridcolor": "white",
            "linecolor": "white",
            "ticks": ""
           }
          },
          "scene": {
           "xaxis": {
            "backgroundcolor": "#E5ECF6",
            "gridcolor": "white",
            "gridwidth": 2,
            "linecolor": "white",
            "showbackground": true,
            "ticks": "",
            "zerolinecolor": "white"
           },
           "yaxis": {
            "backgroundcolor": "#E5ECF6",
            "gridcolor": "white",
            "gridwidth": 2,
            "linecolor": "white",
            "showbackground": true,
            "ticks": "",
            "zerolinecolor": "white"
           },
           "zaxis": {
            "backgroundcolor": "#E5ECF6",
            "gridcolor": "white",
            "gridwidth": 2,
            "linecolor": "white",
            "showbackground": true,
            "ticks": "",
            "zerolinecolor": "white"
           }
          },
          "shapedefaults": {
           "line": {
            "color": "#2a3f5f"
           }
          },
          "ternary": {
           "aaxis": {
            "gridcolor": "white",
            "linecolor": "white",
            "ticks": ""
           },
           "baxis": {
            "gridcolor": "white",
            "linecolor": "white",
            "ticks": ""
           },
           "bgcolor": "#E5ECF6",
           "caxis": {
            "gridcolor": "white",
            "linecolor": "white",
            "ticks": ""
           }
          },
          "title": {
           "x": 0.05
          },
          "xaxis": {
           "automargin": true,
           "gridcolor": "white",
           "linecolor": "white",
           "ticks": "",
           "title": {
            "standoff": 15
           },
           "zerolinecolor": "white",
           "zerolinewidth": 2
          },
          "yaxis": {
           "automargin": true,
           "gridcolor": "white",
           "linecolor": "white",
           "ticks": "",
           "title": {
            "standoff": 15
           },
           "zerolinecolor": "white",
           "zerolinewidth": 2
          }
         }
        },
        "xaxis": {
         "anchor": "y",
         "domain": [
          0,
          1
         ],
         "title": {
          "text": ""
         },
         "type": "log"
        },
        "yaxis": {
         "anchor": "x",
         "domain": [
          0,
          1
         ],
         "title": {
          "text": ""
         }
        }
       }
      }
     },
     "metadata": {},
     "output_type": "display_data"
    }
   ],
   "source": [
    "import plotly.express as px\n",
    "\n",
    "grammes_count = pd.DataFrame()\n",
    "grammes_count['type'] = grammes_dfs.keys()\n",
    "grammes_count['type'] = grammes_count['type'].apply(lambda x: x.capitalize())\n",
    "grammes_count['count'] = [len(grammes_dfs[key]) for key in grammes_dfs.keys()]\n",
    "grammes_count = grammes_count.sort_values(by=['count'], ascending=True)\n",
    "\n",
    "px.bar(grammes_count, x='count', y='type', orientation='h', labels={'count': '', 'type': ''}, log_x=True, text_auto=True)"
   ]
  },
  {
   "cell_type": "code",
   "execution_count": 6,
   "metadata": {},
   "outputs": [],
   "source": [
    "# Shortcuts\n",
    "CASES = [\"V.\", \"K.\", \"N.\", \"G.\", \"Vt.\", \"Įn.\"]\n",
    "GENDERS = [\"vyr. g.\", \"mot. g.\"]\n",
    "NUMBERS = [\"vns.\", \"dgs.\"]\n",
    "PERSON = ['aš', 'mes', 'tu', 'jūs', 'jis', '1 asm.', '2 asm.', '3 asm.']\n",
    "TYPE = ['daiktavardis',\n",
    "        'būdvardis',\n",
    "        'veiksmažodis',\n",
    "        'jungtukas',\n",
    "        'jaustukas',\n",
    "        'dalyvis',\n",
    "        'dalelytė',\n",
    "        'prieveiksmis',\n",
    "        'įvard.-daikt.',\n",
    "        'padalyvis',\n",
    "        'prielinksnis',\n",
    "        'pusdalyvis',\n",
    "        'skaitvardis']\n",
    "TENSE = ['es. l.', 'būt. k. l.', 'bus. l.', 'būt. d. l.']\n",
    "VARIANT = ['trump.', \"ilg.\"]\n",
    "MOOD = ['ties. nuos.', 'tar. nuos.', 'liep. nuos.']\n",
    "COMPARISON_DEGREES = ['nelyg. l.', 'aukšt. l.', 'aukšč. l.']\n",
    "# Write function that accepts list and list of possible values. If possible value appears in list, return it. Else return None\n",
    "\n",
    "\n",
    "def get_value_from_list(values, possible_values, default=None):\n",
    "    for value in values:\n",
    "        for possible_value in possible_values:\n",
    "            if possible_value in value:\n",
    "                return value.strip()\n",
    "    return default"
   ]
  },
  {
   "cell_type": "code",
   "execution_count": 7,
   "metadata": {},
   "outputs": [
    {
     "data": {
      "text/html": [
       "<div>\n",
       "<style scoped>\n",
       "    .dataframe tbody tr th:only-of-type {\n",
       "        vertical-align: middle;\n",
       "    }\n",
       "\n",
       "    .dataframe tbody tr th {\n",
       "        vertical-align: top;\n",
       "    }\n",
       "\n",
       "    .dataframe thead th {\n",
       "        text-align: right;\n",
       "    }\n",
       "</style>\n",
       "<table border=\"1\" class=\"dataframe\">\n",
       "  <thead>\n",
       "    <tr style=\"text-align: right;\">\n",
       "      <th></th>\n",
       "      <th>word</th>\n",
       "      <th>initial_form</th>\n",
       "      <th>gender</th>\n",
       "      <th>case</th>\n",
       "      <th>number</th>\n",
       "    </tr>\n",
       "  </thead>\n",
       "  <tbody>\n",
       "    <tr>\n",
       "      <th>0</th>\n",
       "      <td>abatas</td>\n",
       "      <td>abatas</td>\n",
       "      <td>vyr. g.</td>\n",
       "      <td>V.</td>\n",
       "      <td>vns.</td>\n",
       "    </tr>\n",
       "    <tr>\n",
       "      <th>1</th>\n",
       "      <td>abatus</td>\n",
       "      <td>abatas</td>\n",
       "      <td>vyr. g.</td>\n",
       "      <td>G.</td>\n",
       "      <td>dgs.</td>\n",
       "    </tr>\n",
       "    <tr>\n",
       "      <th>2</th>\n",
       "      <td>abatą</td>\n",
       "      <td>abatas</td>\n",
       "      <td>vyr. g.</td>\n",
       "      <td>G.</td>\n",
       "      <td>vns.</td>\n",
       "    </tr>\n",
       "    <tr>\n",
       "      <th>3</th>\n",
       "      <td>abato</td>\n",
       "      <td>abatas</td>\n",
       "      <td>vyr. g.</td>\n",
       "      <td>K.</td>\n",
       "      <td>vns.</td>\n",
       "    </tr>\n",
       "    <tr>\n",
       "      <th>4</th>\n",
       "      <td>abatui</td>\n",
       "      <td>abatas</td>\n",
       "      <td>vyr. g.</td>\n",
       "      <td>N.</td>\n",
       "      <td>vns.</td>\n",
       "    </tr>\n",
       "  </tbody>\n",
       "</table>\n",
       "</div>"
      ],
      "text/plain": [
       "     word initial_form   gender case number\n",
       "0  abatas       abatas  vyr. g.   V.   vns.\n",
       "1  abatus       abatas  vyr. g.   G.   dgs.\n",
       "2   abatą       abatas  vyr. g.   G.   vns.\n",
       "3   abato       abatas  vyr. g.   K.   vns.\n",
       "4  abatui       abatas  vyr. g.   N.   vns."
      ]
     },
     "execution_count": 7,
     "metadata": {},
     "output_type": "execute_result"
    }
   ],
   "source": [
    "nouns = pd.DataFrame()\n",
    "nouns_mask = grammes_dfs['daiktavardis']['gramme']\n",
    "nouns['word'] = grammes_dfs['daiktavardis']['word']\n",
    "nouns['initial_form'] = nouns_mask.apply(lambda x: x[0].strip())\n",
    "nouns['gender'] = nouns_mask.apply(lambda x: get_value_from_list(x, GENDERS))\n",
    "nouns['case'] = nouns_mask.apply(lambda x: get_value_from_list(x, CASES))\n",
    "nouns['number'] = nouns_mask.apply(\n",
    "    lambda x: get_value_from_list(x, NUMBERS))\n",
    "nouns.to_csv('csv/nouns.csv', index=False)\n",
    "nouns.head()"
   ]
  },
  {
   "cell_type": "code",
   "execution_count": 8,
   "metadata": {},
   "outputs": [
    {
     "data": {
      "text/plain": [
       "gramme_split\n",
       " veiksmažodis     197029\n",
       " būdvardis        178980\n",
       " dalyvis          161854\n",
       " daiktavardis     116328\n",
       " įvard.-daikt.       379\n",
       " skaitvardis         350\n",
       " padalyvis           150\n",
       " prieveiksmis        107\n",
       " jaustukas            44\n",
       " dalelytė             34\n",
       " jungtukas            19\n",
       " prielinksnis         17\n",
       " pusdalyvis           12\n",
       "Name: count, dtype: int64"
      ]
     },
     "execution_count": 8,
     "metadata": {},
     "output_type": "execute_result"
    }
   ],
   "source": [
    "# Count budvardis in grammes_raw\n",
    "grammes_raw['gramme_split'].apply(lambda x: x[2]).value_counts()"
   ]
  },
  {
   "cell_type": "code",
   "execution_count": 9,
   "metadata": {},
   "outputs": [
    {
     "data": {
      "text/html": [
       "<div>\n",
       "<style scoped>\n",
       "    .dataframe tbody tr th:only-of-type {\n",
       "        vertical-align: middle;\n",
       "    }\n",
       "\n",
       "    .dataframe tbody tr th {\n",
       "        vertical-align: top;\n",
       "    }\n",
       "\n",
       "    .dataframe thead th {\n",
       "        text-align: right;\n",
       "    }\n",
       "</style>\n",
       "<table border=\"1\" class=\"dataframe\">\n",
       "  <thead>\n",
       "    <tr style=\"text-align: right;\">\n",
       "      <th></th>\n",
       "      <th>word</th>\n",
       "      <th>initial_form</th>\n",
       "      <th>person</th>\n",
       "      <th>tense</th>\n",
       "      <th>mood</th>\n",
       "      <th>variant</th>\n",
       "    </tr>\n",
       "  </thead>\n",
       "  <tbody>\n",
       "    <tr>\n",
       "      <th>98</th>\n",
       "      <td>esu</td>\n",
       "      <td>būti</td>\n",
       "      <td>aš</td>\n",
       "      <td>es. l.</td>\n",
       "      <td>ties. nuos.</td>\n",
       "      <td>ilg.</td>\n",
       "    </tr>\n",
       "    <tr>\n",
       "      <th>99</th>\n",
       "      <td>esam</td>\n",
       "      <td>būti</td>\n",
       "      <td>mes</td>\n",
       "      <td>es. l.</td>\n",
       "      <td>ties. nuos.</td>\n",
       "      <td>trump.</td>\n",
       "    </tr>\n",
       "    <tr>\n",
       "      <th>100</th>\n",
       "      <td>esi</td>\n",
       "      <td>būti</td>\n",
       "      <td>tu</td>\n",
       "      <td>es. l.</td>\n",
       "      <td>ties. nuos.</td>\n",
       "      <td>ilg.</td>\n",
       "    </tr>\n",
       "    <tr>\n",
       "      <th>101</th>\n",
       "      <td>esame</td>\n",
       "      <td>būti</td>\n",
       "      <td>mes</td>\n",
       "      <td>es. l.</td>\n",
       "      <td>ties. nuos.</td>\n",
       "      <td>ilg.</td>\n",
       "    </tr>\n",
       "    <tr>\n",
       "      <th>102</th>\n",
       "      <td>esat</td>\n",
       "      <td>būti</td>\n",
       "      <td>jūs</td>\n",
       "      <td>es. l.</td>\n",
       "      <td>ties. nuos.</td>\n",
       "      <td>trump.</td>\n",
       "    </tr>\n",
       "  </tbody>\n",
       "</table>\n",
       "</div>"
      ],
      "text/plain": [
       "      word initial_form person   tense         mood variant\n",
       "98     esu         būti     aš  es. l.  ties. nuos.    ilg.\n",
       "99    esam         būti    mes  es. l.  ties. nuos.  trump.\n",
       "100    esi         būti     tu  es. l.  ties. nuos.    ilg.\n",
       "101  esame         būti    mes  es. l.  ties. nuos.    ilg.\n",
       "102   esat         būti    jūs  es. l.  ties. nuos.  trump."
      ]
     },
     "execution_count": 9,
     "metadata": {},
     "output_type": "execute_result"
    }
   ],
   "source": [
    "verbs = pd.DataFrame()\n",
    "verb_mask = grammes_dfs['veiksmažodis']['gramme']\n",
    "verbs['word'] = grammes_dfs['veiksmažodis']['word']\n",
    "verbs['initial_form'] = verb_mask.apply(lambda x: x[0].strip())\n",
    "verbs['person'] = verb_mask.apply(lambda x: get_value_from_list(x, PERSON))\n",
    "verbs['tense'] = verb_mask.apply(lambda x: get_value_from_list(x, TENSE, \"es. l.\"))\n",
    "verbs['mood'] = verb_mask.apply(\n",
    "    lambda x: get_value_from_list(x, MOOD, \"ties. nuos.\"))\n",
    "verbs['variant'] = verb_mask.apply(lambda x: get_value_from_list(x, VARIANT, \"ilg.\"))\n",
    "\n",
    "# Remove anomalies\n",
    "verbs['initial_form'] = verbs['initial_form'].replace('būnti', 'būti', regex=True)\n",
    "\n",
    "verbs.to_csv('csv/verbs.csv', sep=',', index=False)\n",
    "verbs.head()"
   ]
  },
  {
   "cell_type": "code",
   "execution_count": 10,
   "metadata": {},
   "outputs": [
    {
     "data": {
      "text/html": [
       "<div>\n",
       "<style scoped>\n",
       "    .dataframe tbody tr th:only-of-type {\n",
       "        vertical-align: middle;\n",
       "    }\n",
       "\n",
       "    .dataframe tbody tr th {\n",
       "        vertical-align: top;\n",
       "    }\n",
       "\n",
       "    .dataframe thead th {\n",
       "        text-align: right;\n",
       "    }\n",
       "</style>\n",
       "<table border=\"1\" class=\"dataframe\">\n",
       "  <thead>\n",
       "    <tr style=\"text-align: right;\">\n",
       "      <th></th>\n",
       "      <th>word</th>\n",
       "    </tr>\n",
       "  </thead>\n",
       "  <tbody>\n",
       "    <tr>\n",
       "      <th>261836</th>\n",
       "      <td>bei</td>\n",
       "    </tr>\n",
       "    <tr>\n",
       "      <th>328410</th>\n",
       "      <td>bet</td>\n",
       "    </tr>\n",
       "    <tr>\n",
       "      <th>331265</th>\n",
       "      <td>betgi</td>\n",
       "    </tr>\n",
       "    <tr>\n",
       "      <th>242</th>\n",
       "      <td>idant</td>\n",
       "    </tr>\n",
       "    <tr>\n",
       "      <th>193282</th>\n",
       "      <td>ir</td>\n",
       "    </tr>\n",
       "  </tbody>\n",
       "</table>\n",
       "</div>"
      ],
      "text/plain": [
       "         word\n",
       "261836    bei\n",
       "328410    bet\n",
       "331265  betgi\n",
       "242     idant\n",
       "193282     ir"
      ]
     },
     "execution_count": 10,
     "metadata": {},
     "output_type": "execute_result"
    }
   ],
   "source": [
    "conjunctions = pd.DataFrame()\n",
    "conjunctions['word'] = grammes_dfs['jungtukas']['word'].str.strip()\n",
    "conjunctions.to_csv('csv/conjunctions.csv', sep=',', index=False)\n",
    "conjunctions.sort_values(by=['word']).head()"
   ]
  },
  {
   "cell_type": "code",
   "execution_count": 11,
   "metadata": {},
   "outputs": [
    {
     "data": {
      "text/html": [
       "<div>\n",
       "<style scoped>\n",
       "    .dataframe tbody tr th:only-of-type {\n",
       "        vertical-align: middle;\n",
       "    }\n",
       "\n",
       "    .dataframe tbody tr th {\n",
       "        vertical-align: top;\n",
       "    }\n",
       "\n",
       "    .dataframe thead th {\n",
       "        text-align: right;\n",
       "    }\n",
       "</style>\n",
       "<table border=\"1\" class=\"dataframe\">\n",
       "  <thead>\n",
       "    <tr style=\"text-align: right;\">\n",
       "      <th></th>\n",
       "      <th>word</th>\n",
       "      <th>initial_form</th>\n",
       "      <th>gender</th>\n",
       "      <th>case</th>\n",
       "      <th>number</th>\n",
       "    </tr>\n",
       "  </thead>\n",
       "  <tbody>\n",
       "    <tr>\n",
       "      <th>52</th>\n",
       "      <td>haliucinacinis</td>\n",
       "      <td>haliucinacinis</td>\n",
       "      <td>vyr. g.</td>\n",
       "      <td>V.</td>\n",
       "      <td>vns.</td>\n",
       "    </tr>\n",
       "    <tr>\n",
       "      <th>53</th>\n",
       "      <td>haliucinaciniai</td>\n",
       "      <td>haliucinacinis</td>\n",
       "      <td>vyr. g.</td>\n",
       "      <td>V.</td>\n",
       "      <td>dgs.</td>\n",
       "    </tr>\n",
       "    <tr>\n",
       "      <th>54</th>\n",
       "      <td>haliucinacinę</td>\n",
       "      <td>haliucinacinis</td>\n",
       "      <td>mot. g.</td>\n",
       "      <td>V.</td>\n",
       "      <td>vns.</td>\n",
       "    </tr>\n",
       "    <tr>\n",
       "      <th>55</th>\n",
       "      <td>haliucinacinęs</td>\n",
       "      <td>haliucinacinis</td>\n",
       "      <td>mot. g.</td>\n",
       "      <td>V.</td>\n",
       "      <td>dgs.</td>\n",
       "    </tr>\n",
       "    <tr>\n",
       "      <th>56</th>\n",
       "      <td>haliucinacinių</td>\n",
       "      <td>haliucinacinis</td>\n",
       "      <td>vyr. g.</td>\n",
       "      <td>K.</td>\n",
       "      <td>dgs.</td>\n",
       "    </tr>\n",
       "  </tbody>\n",
       "</table>\n",
       "</div>"
      ],
      "text/plain": [
       "               word    initial_form   gender case number\n",
       "52   haliucinacinis  haliucinacinis  vyr. g.   V.   vns.\n",
       "53  haliucinaciniai  haliucinacinis  vyr. g.   V.   dgs.\n",
       "54    haliucinacinę  haliucinacinis  mot. g.   V.   vns.\n",
       "55   haliucinacinęs  haliucinacinis  mot. g.   V.   dgs.\n",
       "56   haliucinacinių  haliucinacinis  vyr. g.   K.   dgs."
      ]
     },
     "execution_count": 11,
     "metadata": {},
     "output_type": "execute_result"
    }
   ],
   "source": [
    "adjectives = pd.DataFrame()\n",
    "adjectives_mask = grammes_dfs['būdvardis']['gramme']\n",
    "adjectives['word'] = grammes_dfs['būdvardis']['word']\n",
    "adjectives['initial_form'] = adjectives_mask.apply(\n",
    "    lambda x: x[0].strip())\n",
    "adjectives['gender'] = adjectives_mask.apply(lambda x: get_value_from_list(x, GENDERS))\n",
    "adjectives['case'] = adjectives_mask.apply(lambda x: get_value_from_list(x, CASES))\n",
    "adjectives['number'] = adjectives_mask.apply(lambda x: get_value_from_list(x, NUMBERS, \"vns.\"))\n",
    "adjectives.to_csv('csv/adjectives.csv', sep=',', index=False)\n",
    "adjectives.head()"
   ]
  },
  {
   "cell_type": "code",
   "execution_count": 12,
   "metadata": {},
   "outputs": [
    {
     "data": {
      "text/html": [
       "<div>\n",
       "<style scoped>\n",
       "    .dataframe tbody tr th:only-of-type {\n",
       "        vertical-align: middle;\n",
       "    }\n",
       "\n",
       "    .dataframe tbody tr th {\n",
       "        vertical-align: top;\n",
       "    }\n",
       "\n",
       "    .dataframe thead th {\n",
       "        text-align: right;\n",
       "    }\n",
       "</style>\n",
       "<table border=\"1\" class=\"dataframe\">\n",
       "  <thead>\n",
       "    <tr style=\"text-align: right;\">\n",
       "      <th></th>\n",
       "      <th>word</th>\n",
       "      <th>initial_form</th>\n",
       "      <th>case</th>\n",
       "      <th>number</th>\n",
       "      <th>gender</th>\n",
       "    </tr>\n",
       "  </thead>\n",
       "  <tbody>\n",
       "    <tr>\n",
       "      <th>81987</th>\n",
       "      <td>dangstydamiesi</td>\n",
       "      <td>dangstydamasis</td>\n",
       "      <td>V.</td>\n",
       "      <td>dgs.</td>\n",
       "      <td>vyr. g.</td>\n",
       "    </tr>\n",
       "    <tr>\n",
       "      <th>81988</th>\n",
       "      <td>dangstydamasis</td>\n",
       "      <td>dangstydamasis</td>\n",
       "      <td>V.</td>\n",
       "      <td>vns.</td>\n",
       "      <td>vyr. g.</td>\n",
       "    </tr>\n",
       "    <tr>\n",
       "      <th>81989</th>\n",
       "      <td>dangstydamasi</td>\n",
       "      <td>dangstydamasis</td>\n",
       "      <td>V.</td>\n",
       "      <td>vns.</td>\n",
       "      <td>mot. g.</td>\n",
       "    </tr>\n",
       "    <tr>\n",
       "      <th>81991</th>\n",
       "      <td>dangstydamosi</td>\n",
       "      <td>dangstydamasis</td>\n",
       "      <td>V.</td>\n",
       "      <td>dgs.</td>\n",
       "      <td>mot. g.</td>\n",
       "    </tr>\n",
       "    <tr>\n",
       "      <th>449757</th>\n",
       "      <td>miegodami</td>\n",
       "      <td>miegodamas</td>\n",
       "      <td>V.</td>\n",
       "      <td>dgs.</td>\n",
       "      <td>vyr. g.</td>\n",
       "    </tr>\n",
       "  </tbody>\n",
       "</table>\n",
       "</div>"
      ],
      "text/plain": [
       "                  word    initial_form case number   gender\n",
       "81987   dangstydamiesi  dangstydamasis   V.   dgs.  vyr. g.\n",
       "81988   dangstydamasis  dangstydamasis   V.   vns.  vyr. g.\n",
       "81989    dangstydamasi  dangstydamasis   V.   vns.  mot. g.\n",
       "81991    dangstydamosi  dangstydamasis   V.   dgs.  mot. g.\n",
       "449757       miegodami      miegodamas   V.   dgs.  vyr. g."
      ]
     },
     "execution_count": 12,
     "metadata": {},
     "output_type": "execute_result"
    }
   ],
   "source": [
    "halfparticiples = pd.DataFrame()\n",
    "halfparticiples_mask = grammes_dfs['pusdalyvis']['gramme']\n",
    "halfparticiples['word'] = grammes_dfs['pusdalyvis']['word']\n",
    "halfparticiples['initial_form'] = halfparticiples_mask.apply(\n",
    "    lambda x: x[0].strip())\n",
    "halfparticiples['case'] = halfparticiples_mask.apply(\n",
    "    lambda x: get_value_from_list(x, CASES))\n",
    "halfparticiples['number'] = halfparticiples_mask.apply(\n",
    "    lambda x: get_value_from_list(x, NUMBERS))\n",
    "halfparticiples['gender'] = halfparticiples_mask.apply(\n",
    "    lambda x: get_value_from_list(x, GENDERS))\n",
    "halfparticiples.to_csv('csv/halfparticiples.csv', sep=',', index=False)\n",
    "halfparticiples.head()"
   ]
  },
  {
   "cell_type": "code",
   "execution_count": 13,
   "metadata": {},
   "outputs": [],
   "source": [
    "particles = grammes_dfs['dalelytė']['word']\n",
    "particles.to_csv('csv/particles.csv', sep=',', index=False)"
   ]
  },
  {
   "cell_type": "code",
   "execution_count": 14,
   "metadata": {},
   "outputs": [],
   "source": [
    "interjections = grammes_dfs['jaustukas']['word']\n",
    "interjections.to_csv('csv/interjections.csv', sep=',', index=False)"
   ]
  },
  {
   "cell_type": "code",
   "execution_count": 15,
   "metadata": {},
   "outputs": [
    {
     "data": {
      "text/html": [
       "<div>\n",
       "<style scoped>\n",
       "    .dataframe tbody tr th:only-of-type {\n",
       "        vertical-align: middle;\n",
       "    }\n",
       "\n",
       "    .dataframe tbody tr th {\n",
       "        vertical-align: top;\n",
       "    }\n",
       "\n",
       "    .dataframe thead th {\n",
       "        text-align: right;\n",
       "    }\n",
       "</style>\n",
       "<table border=\"1\" class=\"dataframe\">\n",
       "  <thead>\n",
       "    <tr style=\"text-align: right;\">\n",
       "      <th></th>\n",
       "      <th>initial_form</th>\n",
       "      <th>case</th>\n",
       "      <th>number</th>\n",
       "      <th>tense</th>\n",
       "    </tr>\n",
       "  </thead>\n",
       "  <tbody>\n",
       "    <tr>\n",
       "      <th>2671</th>\n",
       "      <td>kabantis</td>\n",
       "      <td>V.</td>\n",
       "      <td>vns.</td>\n",
       "      <td>es. l.</td>\n",
       "    </tr>\n",
       "    <tr>\n",
       "      <th>9181</th>\n",
       "      <td>jaudinantis</td>\n",
       "      <td>V.</td>\n",
       "      <td>vns.</td>\n",
       "      <td>es. l.</td>\n",
       "    </tr>\n",
       "    <tr>\n",
       "      <th>19058</th>\n",
       "      <td>naikinantis</td>\n",
       "      <td>V.</td>\n",
       "      <td>vns.</td>\n",
       "      <td>es. l.</td>\n",
       "    </tr>\n",
       "    <tr>\n",
       "      <th>32141</th>\n",
       "      <td>kabus</td>\n",
       "      <td>V.</td>\n",
       "      <td>vns.</td>\n",
       "      <td>būt. k. l.</td>\n",
       "    </tr>\n",
       "    <tr>\n",
       "      <th>55225</th>\n",
       "      <td>laipiojantis</td>\n",
       "      <td>V.</td>\n",
       "      <td>vns.</td>\n",
       "      <td>es. l.</td>\n",
       "    </tr>\n",
       "  </tbody>\n",
       "</table>\n",
       "</div>"
      ],
      "text/plain": [
       "       initial_form case number       tense\n",
       "2671       kabantis   V.   vns.      es. l.\n",
       "9181    jaudinantis   V.   vns.      es. l.\n",
       "19058   naikinantis   V.   vns.      es. l.\n",
       "32141         kabus   V.   vns.  būt. k. l.\n",
       "55225  laipiojantis   V.   vns.      es. l."
      ]
     },
     "execution_count": 15,
     "metadata": {},
     "output_type": "execute_result"
    }
   ],
   "source": [
    "subparticles = pd.DataFrame()\n",
    "subparticles_mask = grammes_dfs['padalyvis']['gramme']\n",
    "subparticles['initial_form'] = grammes_dfs['padalyvis']['word']\n",
    "subparticles['case'] = subparticles_mask.apply(\n",
    "    lambda x: get_value_from_list(x, CASES))\n",
    "subparticles['number'] = subparticles_mask.apply(\n",
    "    lambda x: get_value_from_list(x, NUMBERS))\n",
    "subparticles['tense'] = subparticles_mask.apply(\n",
    "    lambda x: get_value_from_list(x, TENSE))\n",
    "subparticles.to_csv('csv/subparticles.csv', sep=',', index=False)\n",
    "subparticles.head()"
   ]
  },
  {
   "cell_type": "code",
   "execution_count": 16,
   "metadata": {},
   "outputs": [
    {
     "data": {
      "text/plain": [
       "8878      abipus\n",
       "35760        iki\n",
       "143728        už\n",
       "222994        iš\n",
       "248057        be\n",
       "Name: word, dtype: object"
      ]
     },
     "execution_count": 16,
     "metadata": {},
     "output_type": "execute_result"
    }
   ],
   "source": [
    "prepositions = grammes_dfs['prielinksnis']['word']\n",
    "prepositions.to_csv('csv/prepositions.csv', sep=',', index=False)\n",
    "prepositions.head()"
   ]
  },
  {
   "cell_type": "code",
   "execution_count": 17,
   "metadata": {},
   "outputs": [
    {
     "data": {
      "text/html": [
       "<div>\n",
       "<style scoped>\n",
       "    .dataframe tbody tr th:only-of-type {\n",
       "        vertical-align: middle;\n",
       "    }\n",
       "\n",
       "    .dataframe tbody tr th {\n",
       "        vertical-align: top;\n",
       "    }\n",
       "\n",
       "    .dataframe thead th {\n",
       "        text-align: right;\n",
       "    }\n",
       "</style>\n",
       "<table border=\"1\" class=\"dataframe\">\n",
       "  <thead>\n",
       "    <tr style=\"text-align: right;\">\n",
       "      <th></th>\n",
       "      <th>word</th>\n",
       "      <th>gramme</th>\n",
       "    </tr>\n",
       "  </thead>\n",
       "  <tbody>\n",
       "    <tr>\n",
       "      <th>302006</th>\n",
       "      <td>dešimt</td>\n",
       "      <td>[dešimt , dešimt ,  skaitvardis,  mot. g., V., vns., kiek. sktv., , trump., dešimt ,  skaitvardis,  mot. g., K., vns., kiek. sktv., , trump., dešimt ,  skaitvardis,  mot. g., G., vns., kiek. sktv., , trump., dešimt ,  skaitvardis,  mot. g., Įn., vns., kiek. sktv., , trump.]</td>\n",
       "    </tr>\n",
       "    <tr>\n",
       "      <th>302008</th>\n",
       "      <td>dešimtis</td>\n",
       "      <td>[dešimt , dešimtis ,  skaitvardis,  mot. g., V., vns., kiek. sktv., , dešimtis ,  skaitvardis,  mot. g., G., dgs., kiek. sktv., ]</td>\n",
       "    </tr>\n",
       "    <tr>\n",
       "      <th>302009</th>\n",
       "      <td>dešimčių</td>\n",
       "      <td>[dešimt , dešimčių ,  skaitvardis,  mot. g., K., dgs., kiek. sktv., ]</td>\n",
       "    </tr>\n",
       "    <tr>\n",
       "      <th>302010</th>\n",
       "      <td>dešimties</td>\n",
       "      <td>[dešimt , dešimties ,  skaitvardis,  mot. g., K., vns., kiek. sktv., ]</td>\n",
       "    </tr>\n",
       "    <tr>\n",
       "      <th>302011</th>\n",
       "      <td>dešimtys</td>\n",
       "      <td>[dešimt , dešimtys ,  skaitvardis,  mot. g., V., dgs., kiek. sktv., ]</td>\n",
       "    </tr>\n",
       "  </tbody>\n",
       "</table>\n",
       "</div>"
      ],
      "text/plain": [
       "             word  \\\n",
       "302006     dešimt   \n",
       "302008   dešimtis   \n",
       "302009   dešimčių   \n",
       "302010  dešimties   \n",
       "302011   dešimtys   \n",
       "\n",
       "                                                                                                                                                                                                                                                                                    gramme  \n",
       "302006  [dešimt , dešimt ,  skaitvardis,  mot. g., V., vns., kiek. sktv., , trump., dešimt ,  skaitvardis,  mot. g., K., vns., kiek. sktv., , trump., dešimt ,  skaitvardis,  mot. g., G., vns., kiek. sktv., , trump., dešimt ,  skaitvardis,  mot. g., Įn., vns., kiek. sktv., , trump.]  \n",
       "302008                                                                                                                                                   [dešimt , dešimtis ,  skaitvardis,  mot. g., V., vns., kiek. sktv., , dešimtis ,  skaitvardis,  mot. g., G., dgs., kiek. sktv., ]  \n",
       "302009                                                                                                                                                                                                               [dešimt , dešimčių ,  skaitvardis,  mot. g., K., dgs., kiek. sktv., ]  \n",
       "302010                                                                                                                                                                                                              [dešimt , dešimties ,  skaitvardis,  mot. g., K., vns., kiek. sktv., ]  \n",
       "302011                                                                                                                                                                                                               [dešimt , dešimtys ,  skaitvardis,  mot. g., V., dgs., kiek. sktv., ]  "
      ]
     },
     "execution_count": 17,
     "metadata": {},
     "output_type": "execute_result"
    }
   ],
   "source": [
    "grammes_dfs['skaitvardis'].head()"
   ]
  },
  {
   "cell_type": "code",
   "execution_count": 18,
   "metadata": {},
   "outputs": [
    {
     "data": {
      "text/html": [
       "<div>\n",
       "<style scoped>\n",
       "    .dataframe tbody tr th:only-of-type {\n",
       "        vertical-align: middle;\n",
       "    }\n",
       "\n",
       "    .dataframe tbody tr th {\n",
       "        vertical-align: top;\n",
       "    }\n",
       "\n",
       "    .dataframe thead th {\n",
       "        text-align: right;\n",
       "    }\n",
       "</style>\n",
       "<table border=\"1\" class=\"dataframe\">\n",
       "  <thead>\n",
       "    <tr style=\"text-align: right;\">\n",
       "      <th></th>\n",
       "      <th>word</th>\n",
       "      <th>initial_form</th>\n",
       "      <th>case</th>\n",
       "      <th>number</th>\n",
       "      <th>gender</th>\n",
       "    </tr>\n",
       "  </thead>\n",
       "  <tbody>\n",
       "    <tr>\n",
       "      <th>302006</th>\n",
       "      <td>dešimt</td>\n",
       "      <td>dešimt</td>\n",
       "      <td>V.</td>\n",
       "      <td>vns.</td>\n",
       "      <td>mot. g.</td>\n",
       "    </tr>\n",
       "    <tr>\n",
       "      <th>302008</th>\n",
       "      <td>dešimtis</td>\n",
       "      <td>dešimt</td>\n",
       "      <td>V.</td>\n",
       "      <td>vns.</td>\n",
       "      <td>mot. g.</td>\n",
       "    </tr>\n",
       "    <tr>\n",
       "      <th>302009</th>\n",
       "      <td>dešimčių</td>\n",
       "      <td>dešimt</td>\n",
       "      <td>K.</td>\n",
       "      <td>dgs.</td>\n",
       "      <td>mot. g.</td>\n",
       "    </tr>\n",
       "    <tr>\n",
       "      <th>302010</th>\n",
       "      <td>dešimties</td>\n",
       "      <td>dešimt</td>\n",
       "      <td>K.</td>\n",
       "      <td>vns.</td>\n",
       "      <td>mot. g.</td>\n",
       "    </tr>\n",
       "    <tr>\n",
       "      <th>302011</th>\n",
       "      <td>dešimtys</td>\n",
       "      <td>dešimt</td>\n",
       "      <td>V.</td>\n",
       "      <td>dgs.</td>\n",
       "      <td>mot. g.</td>\n",
       "    </tr>\n",
       "  </tbody>\n",
       "</table>\n",
       "</div>"
      ],
      "text/plain": [
       "             word initial_form case number   gender\n",
       "302006     dešimt       dešimt   V.   vns.  mot. g.\n",
       "302008   dešimtis       dešimt   V.   vns.  mot. g.\n",
       "302009   dešimčių       dešimt   K.   dgs.  mot. g.\n",
       "302010  dešimties       dešimt   K.   vns.  mot. g.\n",
       "302011   dešimtys       dešimt   V.   dgs.  mot. g."
      ]
     },
     "execution_count": 18,
     "metadata": {},
     "output_type": "execute_result"
    }
   ],
   "source": [
    "numerals = pd.DataFrame()\n",
    "numerals_mask = grammes_dfs['skaitvardis']['gramme']\n",
    "numerals['word'] = grammes_dfs['skaitvardis']['word']\n",
    "numerals['initial_form'] = numerals_mask.apply(\n",
    "    lambda x: x[0].strip())\n",
    "numerals['case'] = numerals_mask.apply(\n",
    "    lambda x: get_value_from_list(x, CASES))\n",
    "numerals['number'] = numerals_mask.apply(\n",
    "    lambda x: get_value_from_list(x, NUMBERS))\n",
    "numerals['gender'] = numerals_mask.apply(\n",
    "    lambda x: get_value_from_list(x, GENDERS))\n",
    "numerals.to_csv('csv/numerals.csv', sep=',', index=False)\n",
    "numerals.head()"
   ]
  },
  {
   "cell_type": "code",
   "execution_count": 19,
   "metadata": {},
   "outputs": [
    {
     "data": {
      "text/html": [
       "<div>\n",
       "<style scoped>\n",
       "    .dataframe tbody tr th:only-of-type {\n",
       "        vertical-align: middle;\n",
       "    }\n",
       "\n",
       "    .dataframe tbody tr th {\n",
       "        vertical-align: top;\n",
       "    }\n",
       "\n",
       "    .dataframe thead th {\n",
       "        text-align: right;\n",
       "    }\n",
       "</style>\n",
       "<table border=\"1\" class=\"dataframe\">\n",
       "  <thead>\n",
       "    <tr style=\"text-align: right;\">\n",
       "      <th></th>\n",
       "      <th>word</th>\n",
       "      <th>initial_form</th>\n",
       "      <th>case</th>\n",
       "      <th>number</th>\n",
       "    </tr>\n",
       "  </thead>\n",
       "  <tbody>\n",
       "    <tr>\n",
       "      <th>686</th>\n",
       "      <td>mano</td>\n",
       "      <td>aš</td>\n",
       "      <td>K.</td>\n",
       "      <td>vns.</td>\n",
       "    </tr>\n",
       "    <tr>\n",
       "      <th>687</th>\n",
       "      <td>mūs</td>\n",
       "      <td>aš</td>\n",
       "      <td>K.</td>\n",
       "      <td>dgs.</td>\n",
       "    </tr>\n",
       "    <tr>\n",
       "      <th>689</th>\n",
       "      <td>man</td>\n",
       "      <td>aš</td>\n",
       "      <td>N.</td>\n",
       "      <td>vns.</td>\n",
       "    </tr>\n",
       "    <tr>\n",
       "      <th>691</th>\n",
       "      <td>mums</td>\n",
       "      <td>aš</td>\n",
       "      <td>N.</td>\n",
       "      <td>dgs.</td>\n",
       "    </tr>\n",
       "    <tr>\n",
       "      <th>772</th>\n",
       "      <td>mane</td>\n",
       "      <td>aš</td>\n",
       "      <td>G.</td>\n",
       "      <td>vns.</td>\n",
       "    </tr>\n",
       "  </tbody>\n",
       "</table>\n",
       "</div>"
      ],
      "text/plain": [
       "     word initial_form case number\n",
       "686  mano           aš   K.   vns.\n",
       "687   mūs           aš   K.   dgs.\n",
       "689   man           aš   N.   vns.\n",
       "691  mums           aš   N.   dgs.\n",
       "772  mane           aš   G.   vns."
      ]
     },
     "execution_count": 19,
     "metadata": {},
     "output_type": "execute_result"
    }
   ],
   "source": [
    "pronoun = pd.DataFrame()\n",
    "pronoun_mask = grammes_dfs['įvardžiai']['gramme']\n",
    "pronoun['word'] = grammes_dfs['įvardžiai']['word']\n",
    "pronoun['initial_form'] = pronoun_mask.apply(lambda x: x[0].strip())\n",
    "pronoun['case'] = pronoun_mask.apply(lambda x: get_value_from_list(x, CASES))\n",
    "pronoun['number'] = pronoun_mask.apply(lambda x: get_value_from_list(x, NUMBERS))\n",
    "\n",
    "# Fix anomalies\n",
    "pronoun.loc[pronoun['word'] == 'mano', 'initial_form'] = 'aš'\n",
    "\n",
    "pronoun.to_csv('csv/pronoun.csv', sep=',', index=False)\n",
    "pronoun.head()"
   ]
  },
  {
   "cell_type": "code",
   "execution_count": 20,
   "metadata": {},
   "outputs": [
    {
     "data": {
      "text/html": [
       "<div>\n",
       "<style scoped>\n",
       "    .dataframe tbody tr th:only-of-type {\n",
       "        vertical-align: middle;\n",
       "    }\n",
       "\n",
       "    .dataframe tbody tr th {\n",
       "        vertical-align: top;\n",
       "    }\n",
       "\n",
       "    .dataframe thead th {\n",
       "        text-align: right;\n",
       "    }\n",
       "</style>\n",
       "<table border=\"1\" class=\"dataframe\">\n",
       "  <thead>\n",
       "    <tr style=\"text-align: right;\">\n",
       "      <th></th>\n",
       "      <th>word</th>\n",
       "      <th>form</th>\n",
       "      <th>comparison_degree</th>\n",
       "    </tr>\n",
       "  </thead>\n",
       "  <tbody>\n",
       "    <tr>\n",
       "      <th>667</th>\n",
       "      <td>dabar</td>\n",
       "      <td>ties. nuos.</td>\n",
       "      <td>nelyg. l.</td>\n",
       "    </tr>\n",
       "    <tr>\n",
       "      <th>668</th>\n",
       "      <td>dabartęs</td>\n",
       "      <td>ties. nuos.</td>\n",
       "      <td>nelyg. l.</td>\n",
       "    </tr>\n",
       "    <tr>\n",
       "      <th>1102</th>\n",
       "      <td>abejaip</td>\n",
       "      <td>ties. nuos.</td>\n",
       "      <td>nelyg. l.</td>\n",
       "    </tr>\n",
       "    <tr>\n",
       "      <th>8808</th>\n",
       "      <td>abejur</td>\n",
       "      <td>ties. nuos.</td>\n",
       "      <td>nelyg. l.</td>\n",
       "    </tr>\n",
       "    <tr>\n",
       "      <th>17154</th>\n",
       "      <td>absoliučiau</td>\n",
       "      <td>ties. nuos.</td>\n",
       "      <td>aukšt. l.</td>\n",
       "    </tr>\n",
       "  </tbody>\n",
       "</table>\n",
       "</div>"
      ],
      "text/plain": [
       "              word         form comparison_degree\n",
       "667          dabar  ties. nuos.         nelyg. l.\n",
       "668       dabartęs  ties. nuos.         nelyg. l.\n",
       "1102       abejaip  ties. nuos.         nelyg. l.\n",
       "8808        abejur  ties. nuos.         nelyg. l.\n",
       "17154  absoliučiau  ties. nuos.         aukšt. l."
      ]
     },
     "execution_count": 20,
     "metadata": {},
     "output_type": "execute_result"
    }
   ],
   "source": [
    "adverbs = pd.DataFrame()\n",
    "adverbs_mask = grammes_dfs['prieveiksmis']['gramme']\n",
    "adverbs['word'] = grammes_dfs['prieveiksmis']['word']\n",
    "adverbs['form'] = adverbs_mask.apply(lambda x: 'neįv. f.' if x[0].strip() in x else 'ties. nuos.')\n",
    "adverbs['comparison_degree'] = adverbs_mask.apply(\n",
    "    lambda x: x[-1].strip() if x[-1].strip() in COMPARISON_DEGREES else \"nelyg. l.\")\n",
    "adverbs.to_csv('csv/adverbs.csv', sep=',', index=False)\n",
    "adverbs.head()"
   ]
  },
  {
   "cell_type": "code",
   "execution_count": 21,
   "metadata": {},
   "outputs": [
    {
     "data": {
      "text/html": [
       "<div>\n",
       "<style scoped>\n",
       "    .dataframe tbody tr th:only-of-type {\n",
       "        vertical-align: middle;\n",
       "    }\n",
       "\n",
       "    .dataframe tbody tr th {\n",
       "        vertical-align: top;\n",
       "    }\n",
       "\n",
       "    .dataframe thead th {\n",
       "        text-align: right;\n",
       "    }\n",
       "</style>\n",
       "<table border=\"1\" class=\"dataframe\">\n",
       "  <thead>\n",
       "    <tr style=\"text-align: right;\">\n",
       "      <th></th>\n",
       "      <th>word</th>\n",
       "      <th>number</th>\n",
       "      <th>tense</th>\n",
       "      <th>form</th>\n",
       "      <th>gender</th>\n",
       "    </tr>\n",
       "  </thead>\n",
       "  <tbody>\n",
       "    <tr>\n",
       "      <th>405</th>\n",
       "      <td>kaitaliojąsis</td>\n",
       "      <td>vns.</td>\n",
       "      <td>es. l. veik. dlv.</td>\n",
       "      <td>neįv. f.</td>\n",
       "      <td>vyr. g.</td>\n",
       "    </tr>\n",
       "    <tr>\n",
       "      <th>406</th>\n",
       "      <td>kaitaliojąsi</td>\n",
       "      <td>dgs.</td>\n",
       "      <td>es. l. veik. dlv.</td>\n",
       "      <td>neįv. f.</td>\n",
       "      <td>vyr. g.</td>\n",
       "    </tr>\n",
       "    <tr>\n",
       "      <th>407</th>\n",
       "      <td>kaitaliojantis</td>\n",
       "      <td>vns.</td>\n",
       "      <td>es. l. veik. dlv.</td>\n",
       "      <td>neįv. f.</td>\n",
       "      <td>mot. g.</td>\n",
       "    </tr>\n",
       "    <tr>\n",
       "      <th>410</th>\n",
       "      <td>kaitaliojančiosi</td>\n",
       "      <td>dgs.</td>\n",
       "      <td>es. l. veik. dlv.</td>\n",
       "      <td>neįv. f.</td>\n",
       "      <td>mot. g.</td>\n",
       "    </tr>\n",
       "    <tr>\n",
       "      <th>445</th>\n",
       "      <td>caknotas</td>\n",
       "      <td>vns.</td>\n",
       "      <td>būt. k. l. neveik. dlv.</td>\n",
       "      <td>neįv. f.</td>\n",
       "      <td>vyr. g.</td>\n",
       "    </tr>\n",
       "  </tbody>\n",
       "</table>\n",
       "</div>"
      ],
      "text/plain": [
       "                 word number                    tense      form   gender\n",
       "405     kaitaliojąsis   vns.        es. l. veik. dlv.  neįv. f.  vyr. g.\n",
       "406      kaitaliojąsi   dgs.        es. l. veik. dlv.  neįv. f.  vyr. g.\n",
       "407    kaitaliojantis   vns.        es. l. veik. dlv.  neįv. f.  mot. g.\n",
       "410  kaitaliojančiosi   dgs.        es. l. veik. dlv.  neįv. f.  mot. g.\n",
       "445          caknotas   vns.  būt. k. l. neveik. dlv.  neįv. f.  vyr. g."
      ]
     },
     "execution_count": 21,
     "metadata": {},
     "output_type": "execute_result"
    }
   ],
   "source": [
    "participles = pd.DataFrame()\n",
    "participles_mask = grammes_dfs['dalyvis']['gramme']\n",
    "participles['word'] = grammes_dfs['dalyvis']['word']\n",
    "particles['case'] = participles_mask.apply(lambda x: get_value_from_list(x, CASES))\n",
    "participles['number'] = participles_mask.apply(lambda x: get_value_from_list(x, NUMBERS))\n",
    "participles['tense'] = participles_mask.apply(lambda x: get_value_from_list(x, TENSE))\n",
    "participles['form'] = participles_mask.apply(lambda x: get_value_from_list(x, ['neįv. f.', 'ties. nuos.', 'įv. f.']))\n",
    "participles['gender'] = participles_mask.apply(lambda x: get_value_from_list(x, GENDERS))\n",
    "participles.to_csv('csv/participles.csv', sep=',', index=False)\n",
    "participles.head()"
   ]
  }
 ],
 "metadata": {
  "kernelspec": {
   "display_name": ".venv",
   "language": "python",
   "name": "python3"
  },
  "language_info": {
   "codemirror_mode": {
    "name": "ipython",
    "version": 3
   },
   "file_extension": ".py",
   "mimetype": "text/x-python",
   "name": "python",
   "nbconvert_exporter": "python",
   "pygments_lexer": "ipython3",
   "version": "3.12.0"
  }
 },
 "nbformat": 4,
 "nbformat_minor": 2
}
